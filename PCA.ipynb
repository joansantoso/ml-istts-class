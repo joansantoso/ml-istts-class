{
  "nbformat": 4,
  "nbformat_minor": 0,
  "metadata": {
    "colab": {
      "provenance": [],
      "authorship_tag": "ABX9TyOZ7xxmpqwZVLXaXYxghHtq",
      "include_colab_link": true
    },
    "kernelspec": {
      "name": "python3",
      "display_name": "Python 3"
    },
    "language_info": {
      "name": "python"
    }
  },
  "cells": [
    {
      "cell_type": "markdown",
      "metadata": {
        "id": "view-in-github",
        "colab_type": "text"
      },
      "source": [
        "<a href=\"https://colab.research.google.com/github/joansantoso/ml-istts-class/blob/main/PCA.ipynb\" target=\"_parent\"><img src=\"https://colab.research.google.com/assets/colab-badge.svg\" alt=\"Open In Colab\"/></a>"
      ]
    },
    {
      "cell_type": "code",
      "execution_count": 2,
      "metadata": {
        "id": "feg13PWez91s"
      },
      "outputs": [],
      "source": [
        "from sklearn.datasets import load_iris\n",
        "data = load_iris()"
      ]
    },
    {
      "cell_type": "code",
      "source": [
        "X = data.data\n",
        "y = data.target"
      ],
      "metadata": {
        "id": "fopSC6-R0oTc"
      },
      "execution_count": 4,
      "outputs": []
    },
    {
      "cell_type": "code",
      "source": [
        "from sklearn.model_selection import train_test_split\n",
        "X_train, X_test,y_train, y_test = train_test_split(X, y, test_size=0.2)"
      ],
      "metadata": {
        "id": "gDkk8rQZ2kXd"
      },
      "execution_count": 34,
      "outputs": []
    },
    {
      "cell_type": "code",
      "source": [
        "from sklearn.decomposition import PCA\n",
        "model_pca = PCA(n_components=2)"
      ],
      "metadata": {
        "id": "4qAt1N0v06VN"
      },
      "execution_count": 56,
      "outputs": []
    },
    {
      "cell_type": "code",
      "source": [
        "X_new = model_pca.fit_transform(X_train)"
      ],
      "metadata": {
        "id": "-3Gw2PwN1Fyr"
      },
      "execution_count": 57,
      "outputs": []
    },
    {
      "cell_type": "code",
      "source": [
        "X_test_new = model_pca.transform(X_test)"
      ],
      "metadata": {
        "id": "xl_vzPSQ235P"
      },
      "execution_count": 58,
      "outputs": []
    },
    {
      "cell_type": "code",
      "source": [
        "model_pca.singular_values_"
      ],
      "metadata": {
        "colab": {
          "base_uri": "https://localhost:8080/"
        },
        "id": "yIvjLWJM1LA_",
        "outputId": "4da8ba81-a6e3-4f39-99f9-f7fb18c95dc4"
      },
      "execution_count": 59,
      "outputs": [
        {
          "output_type": "execute_result",
          "data": {
            "text/plain": [
              "array([22.80127317,  5.18002529])"
            ]
          },
          "metadata": {},
          "execution_count": 59
        }
      ]
    },
    {
      "cell_type": "code",
      "source": [
        "model_pca.explained_variance_ratio_"
      ],
      "metadata": {
        "colab": {
          "base_uri": "https://localhost:8080/"
        },
        "id": "gsZeFHB21U7O",
        "outputId": "97c04b42-4a96-4539-d4b8-8867d9123308"
      },
      "execution_count": 60,
      "outputs": [
        {
          "output_type": "execute_result",
          "data": {
            "text/plain": [
              "array([0.92972102, 0.0479842 ])"
            ]
          },
          "metadata": {},
          "execution_count": 60
        }
      ]
    },
    {
      "cell_type": "code",
      "source": [
        "from sklearn.neighbors import KNeighborsClassifier\n",
        "model = KNeighborsClassifier(n_neighbors=3)"
      ],
      "metadata": {
        "id": "I69whvic1Z6i"
      },
      "execution_count": 61,
      "outputs": []
    },
    {
      "cell_type": "code",
      "source": [
        "model.fit(X_new, y_train)"
      ],
      "metadata": {
        "colab": {
          "base_uri": "https://localhost:8080/",
          "height": 74
        },
        "id": "-c8HSiXX1yEX",
        "outputId": "2763cfce-033c-4b79-9c14-3b026865bfa3"
      },
      "execution_count": 62,
      "outputs": [
        {
          "output_type": "execute_result",
          "data": {
            "text/plain": [
              "KNeighborsClassifier(n_neighbors=3)"
            ],
            "text/html": [
              "<style>#sk-container-id-7 {color: black;background-color: white;}#sk-container-id-7 pre{padding: 0;}#sk-container-id-7 div.sk-toggleable {background-color: white;}#sk-container-id-7 label.sk-toggleable__label {cursor: pointer;display: block;width: 100%;margin-bottom: 0;padding: 0.3em;box-sizing: border-box;text-align: center;}#sk-container-id-7 label.sk-toggleable__label-arrow:before {content: \"▸\";float: left;margin-right: 0.25em;color: #696969;}#sk-container-id-7 label.sk-toggleable__label-arrow:hover:before {color: black;}#sk-container-id-7 div.sk-estimator:hover label.sk-toggleable__label-arrow:before {color: black;}#sk-container-id-7 div.sk-toggleable__content {max-height: 0;max-width: 0;overflow: hidden;text-align: left;background-color: #f0f8ff;}#sk-container-id-7 div.sk-toggleable__content pre {margin: 0.2em;color: black;border-radius: 0.25em;background-color: #f0f8ff;}#sk-container-id-7 input.sk-toggleable__control:checked~div.sk-toggleable__content {max-height: 200px;max-width: 100%;overflow: auto;}#sk-container-id-7 input.sk-toggleable__control:checked~label.sk-toggleable__label-arrow:before {content: \"▾\";}#sk-container-id-7 div.sk-estimator input.sk-toggleable__control:checked~label.sk-toggleable__label {background-color: #d4ebff;}#sk-container-id-7 div.sk-label input.sk-toggleable__control:checked~label.sk-toggleable__label {background-color: #d4ebff;}#sk-container-id-7 input.sk-hidden--visually {border: 0;clip: rect(1px 1px 1px 1px);clip: rect(1px, 1px, 1px, 1px);height: 1px;margin: -1px;overflow: hidden;padding: 0;position: absolute;width: 1px;}#sk-container-id-7 div.sk-estimator {font-family: monospace;background-color: #f0f8ff;border: 1px dotted black;border-radius: 0.25em;box-sizing: border-box;margin-bottom: 0.5em;}#sk-container-id-7 div.sk-estimator:hover {background-color: #d4ebff;}#sk-container-id-7 div.sk-parallel-item::after {content: \"\";width: 100%;border-bottom: 1px solid gray;flex-grow: 1;}#sk-container-id-7 div.sk-label:hover label.sk-toggleable__label {background-color: #d4ebff;}#sk-container-id-7 div.sk-serial::before {content: \"\";position: absolute;border-left: 1px solid gray;box-sizing: border-box;top: 0;bottom: 0;left: 50%;z-index: 0;}#sk-container-id-7 div.sk-serial {display: flex;flex-direction: column;align-items: center;background-color: white;padding-right: 0.2em;padding-left: 0.2em;position: relative;}#sk-container-id-7 div.sk-item {position: relative;z-index: 1;}#sk-container-id-7 div.sk-parallel {display: flex;align-items: stretch;justify-content: center;background-color: white;position: relative;}#sk-container-id-7 div.sk-item::before, #sk-container-id-7 div.sk-parallel-item::before {content: \"\";position: absolute;border-left: 1px solid gray;box-sizing: border-box;top: 0;bottom: 0;left: 50%;z-index: -1;}#sk-container-id-7 div.sk-parallel-item {display: flex;flex-direction: column;z-index: 1;position: relative;background-color: white;}#sk-container-id-7 div.sk-parallel-item:first-child::after {align-self: flex-end;width: 50%;}#sk-container-id-7 div.sk-parallel-item:last-child::after {align-self: flex-start;width: 50%;}#sk-container-id-7 div.sk-parallel-item:only-child::after {width: 0;}#sk-container-id-7 div.sk-dashed-wrapped {border: 1px dashed gray;margin: 0 0.4em 0.5em 0.4em;box-sizing: border-box;padding-bottom: 0.4em;background-color: white;}#sk-container-id-7 div.sk-label label {font-family: monospace;font-weight: bold;display: inline-block;line-height: 1.2em;}#sk-container-id-7 div.sk-label-container {text-align: center;}#sk-container-id-7 div.sk-container {/* jupyter's `normalize.less` sets `[hidden] { display: none; }` but bootstrap.min.css set `[hidden] { display: none !important; }` so we also need the `!important` here to be able to override the default hidden behavior on the sphinx rendered scikit-learn.org. See: https://github.com/scikit-learn/scikit-learn/issues/21755 */display: inline-block !important;position: relative;}#sk-container-id-7 div.sk-text-repr-fallback {display: none;}</style><div id=\"sk-container-id-7\" class=\"sk-top-container\"><div class=\"sk-text-repr-fallback\"><pre>KNeighborsClassifier(n_neighbors=3)</pre><b>In a Jupyter environment, please rerun this cell to show the HTML representation or trust the notebook. <br />On GitHub, the HTML representation is unable to render, please try loading this page with nbviewer.org.</b></div><div class=\"sk-container\" hidden><div class=\"sk-item\"><div class=\"sk-estimator sk-toggleable\"><input class=\"sk-toggleable__control sk-hidden--visually\" id=\"sk-estimator-id-7\" type=\"checkbox\" checked><label for=\"sk-estimator-id-7\" class=\"sk-toggleable__label sk-toggleable__label-arrow\">KNeighborsClassifier</label><div class=\"sk-toggleable__content\"><pre>KNeighborsClassifier(n_neighbors=3)</pre></div></div></div></div></div>"
            ]
          },
          "metadata": {},
          "execution_count": 62
        }
      ]
    },
    {
      "cell_type": "code",
      "source": [
        "y_hat = model.predict(X_test_new)"
      ],
      "metadata": {
        "id": "mEoSiq9k2-mX"
      },
      "execution_count": 63,
      "outputs": []
    },
    {
      "cell_type": "code",
      "source": [
        "from sklearn.metrics import classification_report\n",
        "print(classification_report(y_test, y_hat))"
      ],
      "metadata": {
        "colab": {
          "base_uri": "https://localhost:8080/"
        },
        "id": "bXLdtqpC3Iqk",
        "outputId": "f966def7-6cbb-4bdd-ab0a-9d620cad2afd"
      },
      "execution_count": 64,
      "outputs": [
        {
          "output_type": "stream",
          "name": "stdout",
          "text": [
            "              precision    recall  f1-score   support\n",
            "\n",
            "           0       1.00      1.00      1.00         9\n",
            "           1       0.92      0.92      0.92        12\n",
            "           2       0.89      0.89      0.89         9\n",
            "\n",
            "    accuracy                           0.93        30\n",
            "   macro avg       0.94      0.94      0.94        30\n",
            "weighted avg       0.93      0.93      0.93        30\n",
            "\n"
          ]
        }
      ]
    },
    {
      "cell_type": "code",
      "source": [
        "X_new"
      ],
      "metadata": {
        "colab": {
          "base_uri": "https://localhost:8080/"
        },
        "id": "3gVkM84d35F-",
        "outputId": "6121b57e-382e-4f26-eafa-6de4b429fa40"
      },
      "execution_count": 65,
      "outputs": [
        {
          "output_type": "execute_result",
          "data": {
            "text/plain": [
              "array([[ 0.94310185, -0.58686967],\n",
              "       [ 2.32208718, -0.28927133],\n",
              "       [-0.70898994, -1.02951723],\n",
              "       [ 0.81627956, -0.18941247],\n",
              "       [ 3.8002773 ,  0.19312399],\n",
              "       [ 2.28336389,  0.30203491],\n",
              "       [ 0.8139456 ,  0.17687388],\n",
              "       [ 1.26163373, -0.2130028 ],\n",
              "       [-2.29713869,  0.09519135],\n",
              "       [-2.61643794,  0.59158618],\n",
              "       [ 1.29849679, -0.3662033 ],\n",
              "       [ 1.34506771, -0.80569655],\n",
              "       [ 0.81436134, -0.41490752],\n",
              "       [-2.71177692, -0.18090507],\n",
              "       [ 2.93795093,  0.30690425],\n",
              "       [ 2.35486671, -0.07494584],\n",
              "       [ 1.91166351,  0.08757313],\n",
              "       [ 1.52821495, -0.41639064],\n",
              "       [-0.17124986, -0.27466653],\n",
              "       [-2.49738202,  0.64413426],\n",
              "       [-2.50429362, -0.15120576],\n",
              "       [ 3.24564449,  1.32864008],\n",
              "       [-2.46288764,  0.13183681],\n",
              "       [ 0.93512923,  0.43013311],\n",
              "       [-2.58394916,  0.22887729],\n",
              "       [ 1.90871044,  0.0935229 ],\n",
              "       [ 1.33659808,  0.20126936],\n",
              "       [-2.5291908 ,  0.51166503],\n",
              "       [ 2.39424382,  0.41946779],\n",
              "       [-0.00954683, -0.7375182 ],\n",
              "       [-2.20064598,  0.44432387],\n",
              "       [ 1.29347724,  0.64484971],\n",
              "       [-2.74358571, -0.31337429],\n",
              "       [-0.75320362, -1.01809284],\n",
              "       [-0.90817514, -0.77380164],\n",
              "       [ 0.37813063, -0.31256322],\n",
              "       [-2.58504201, -0.20327869],\n",
              "       [-2.61156666,  0.81113146],\n",
              "       [-0.19209823, -0.70470501],\n",
              "       [ 2.42760775,  0.26874657],\n",
              "       [-2.63398161, -0.12288238],\n",
              "       [ 1.39132172, -0.24132619],\n",
              "       [-2.57860414,  0.52024195],\n",
              "       [-2.63070307,  1.17358553],\n",
              "       [ 0.66246177, -0.36848   ],\n",
              "       [-3.20935213,  0.14572913],\n",
              "       [-2.67710245,  0.32069797],\n",
              "       [-0.07056296, -0.7299261 ],\n",
              "       [ 1.47163109,  0.46431064],\n",
              "       [-2.62048386,  0.16537998],\n",
              "       [ 3.08576697,  0.62800272],\n",
              "       [ 0.33439069, -0.22931945],\n",
              "       [ 1.10217728,  0.2586461 ],\n",
              "       [ 2.84727698,  0.32095578],\n",
              "       [-2.88567859, -0.14115731],\n",
              "       [ 1.80581458, -0.25374696],\n",
              "       [ 1.39309456, -0.30434834],\n",
              "       [ 0.64627843, -0.0119757 ],\n",
              "       [ 0.26235614, -0.58775886],\n",
              "       [ 0.04376705, -0.60840611],\n",
              "       [ 0.92325895, -0.2096686 ],\n",
              "       [-2.55509345,  0.36729628],\n",
              "       [-2.40222313,  0.40272503],\n",
              "       [ 1.17320636, -0.19015404],\n",
              "       [ 1.41565778, -0.60093279],\n",
              "       [ 1.04884013,  0.19131652],\n",
              "       [-2.53391672,  0.58063695],\n",
              "       [ 0.18018655, -0.85528995],\n",
              "       [-2.30339646,  0.3855712 ],\n",
              "       [-2.85357616, -0.95076918],\n",
              "       [ 1.5638369 ,  0.22885118],\n",
              "       [ 1.20002176, -0.6275298 ],\n",
              "       [ 0.90627351,  0.29171412],\n",
              "       [ 0.71934783,  0.11501891],\n",
              "       [ 1.93106739,  0.36393596],\n",
              "       [-2.60807896,  0.02148638],\n",
              "       [-2.76305048,  0.26577758],\n",
              "       [ 0.30033532, -0.37058591],\n",
              "       [-2.97992472, -0.48149259],\n",
              "       [ 2.11536836,  0.32988314],\n",
              "       [ 1.12131369, -0.10380797],\n",
              "       [ 1.58828361, -0.56762153],\n",
              "       [ 3.50111992,  1.13430431],\n",
              "       [-2.99528269, -0.33164922],\n",
              "       [ 0.36099982, -0.09969769],\n",
              "       [ 2.92914149,  0.74340215],\n",
              "       [-2.71225066, -0.25272446],\n",
              "       [ 2.53789184, -0.03593964],\n",
              "       [ 0.16482858, -0.70544658],\n",
              "       [ 3.40448183,  0.4966546 ],\n",
              "       [-2.72131613,  0.33212235],\n",
              "       [-0.30533539, -0.39406904],\n",
              "       [ 1.78000754, -0.52824713],\n",
              "       [-2.18844734,  0.86742777],\n",
              "       [ 2.62348824,  0.29746107],\n",
              "       [ 1.97428384, -0.2097758 ],\n",
              "       [ 2.4362342 ,  0.33746366],\n",
              "       [ 0.13753944, -0.33989021],\n",
              "       [ 2.32143045,  0.14412428],\n",
              "       [ 2.17198695,  0.17456515],\n",
              "       [-2.62925569, -0.1918543 ],\n",
              "       [-2.39844469,  0.19011433],\n",
              "       [ 0.89454861, -0.0595704 ],\n",
              "       [ 2.16274138, -0.25448852],\n",
              "       [ 1.44640844, -0.17523624],\n",
              "       [ 1.90998627,  0.02046388],\n",
              "       [-2.63722832,  0.82514848],\n",
              "       [-2.67004257, -0.1145603 ],\n",
              "       [ 0.23636611, -0.35704404],\n",
              "       [ 1.29521536, -0.14355573],\n",
              "       [-2.58471654,  1.09913899],\n",
              "       [-3.22346898, -0.50286981],\n",
              "       [-2.86154879,  0.0662336 ],\n",
              "       [-2.78437259, -0.23608029],\n",
              "       [ 2.5706481 ,  0.24016836],\n",
              "       [-2.53486419,  0.43699818],\n",
              "       [ 1.95115128,  0.14512067],\n",
              "       [-2.35165607, -0.02921062],\n",
              "       [ 0.64223252, -0.4381819 ],\n",
              "       [ 1.95419995,  0.00903949]])"
            ]
          },
          "metadata": {},
          "execution_count": 65
        }
      ]
    }
  ]
}